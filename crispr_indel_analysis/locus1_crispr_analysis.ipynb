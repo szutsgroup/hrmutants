{
 "cells": [
  {
   "cell_type": "markdown",
   "metadata": {},
   "source": [
    "## CRISPR repair amplicon assay"
   ]
  },
  {
   "cell_type": "markdown",
   "metadata": {},
   "source": [
    "The raw fastq files were previously first checked with **Fastq**, trimmed for adapters and low quality regions with **Trimmomatic** and the overlapping forward and reverse reads were merged with **FLASH2**.  "
   ]
  },
  {
   "cell_type": "code",
   "execution_count": null,
   "metadata": {},
   "outputs": [],
   "source": [
    "from Bio import SeqIO\n",
    "from Bio.SeqRecord import SeqRecord\n",
    "import re\n",
    "import matplotlib.pyplot as plt\n",
    "import numpy as np\n",
    "import os\n",
    "import gzip"
   ]
  },
  {
   "cell_type": "markdown",
   "metadata": {},
   "source": [
    "#### Barcode separation"
   ]
  },
  {
   "cell_type": "markdown",
   "metadata": {},
   "source": [
    "We start the analysis with the FLASH2-merged amplicons.\n",
    "First we select all merged amplicons that start and end with the theoretical sequence, and then separate all reads with the given barcode combinations letting no deviations from the barcode sequences. "
   ]
  },
  {
   "cell_type": "code",
   "execution_count": null,
   "metadata": {},
   "outputs": [],
   "source": [
    "fwd = ['gctatg', 'ctcagt', 'agcgta', 'gagtca', 'tctgac', 'aagctg', 'gtccat', 'cgatgt']\n",
    "fwd = list(map(lambda x: x.upper(), fwd))\n",
    "rev = fwd\n",
    "locus_sides = re.compile(r'GTCCGCCATC[ACTG]*GGCGGCCCGG')\n",
    "locus_sides_rc = re.compile(r'CCGGGCCGCC[ACGT]*GATGGCGGAC')\n",
    " \n",
    "outfile = open(\"locus1.all.fa\", \"w\")\n",
    "\n",
    "cc = 0\n",
    "with gzip.open(\"merged/locus1.extendedFrags.fastq.gz\", \"rt\") as f:\n",
    "    for record in SeqIO.parse(f, \"fastq\"):\n",
    "        if xpc_sides.search(str(record.seq)):\n",
    "            outfile.write(\">\" + record.id + \"\\n\")\n",
    "            outfile.write(str(record.seq) + \"\\n\")\n",
    "        if xpc_sides_rc.search(str(record.seq)):\n",
    "            outfile.write(\">\" + record.id + \"\\n\")\n",
    "            outfile.write(str(record.seq.reverse_complement()) + \"\\n\")\n",
    "\n",
    "\n",
    "outfile.close()"
   ]
  },
  {
   "cell_type": "code",
   "execution_count": null,
   "metadata": {},
   "outputs": [],
   "source": [
    "fwd = ['gctatg', 'ctcagt', 'agcgta', 'gagtca', 'tctgac', 'aagctg', 'gtccat', 'cgatgt']\n",
    "fwd = list(map(lambda x: x.upper(), fwd))\n",
    "rev = fwd\n",
    "\n",
    "\n",
    "fnames  = list(map(lambda x: \"F\" + str(x), range(1, 9)))\n",
    "rnames  = list(map(lambda x: \"R\" + str(x), range(1, 9)))\n",
    "d       = dict()\n",
    "counter = dict()\n",
    "\n",
    "num_else = 0\n",
    "else_seq = []\n",
    "\n",
    "mat = np.zeros((8, 8))\n",
    "\n",
    "for i in ((x + \"_\" + y) for x in fnames for y in rnames):\n",
    "    d[i]       = []\n",
    "    counter[i] = 0\n",
    "\n",
    "\n",
    "for record in SeqIO.parse(\"locus1.all.fa\", \"fasta\"):\n",
    "    detected_f = record.seq[3:9]\n",
    "    detected_r = record.seq[len(record.seq)-9:len(record.seq)-3]\n",
    "    detected_r = detected_r.reverse_complement()\n",
    "    try:\n",
    "        address = \"F\" + str(fwd.index(detected_f) + 1) + \"_R\" + str(rev.index(detected_r)+1)\n",
    "        d[address].append(record)\n",
    "        counter[address] += 1\n",
    "        mat[fwd.index(detected_f), rev.index(detected_r)] += 1                                                            \n",
    "    except ValueError:\n",
    "        num_else += 1\n",
    "        else_seq.append(detected_f + \":\" + detected_r)\n",
    "\n",
    "if not os.path.exists(\"locus1_sep\"):\n",
    "    os.makedirs(\"locus1_sep\")\n",
    "\n",
    "for sample in d:\n",
    "    for amplicon in d[sample]:\n",
    "        with open(str(\"locus1_sep/\" + sample + \".fasta\"), \"a\") as f:\n",
    "            f.write(\">\" + str(amplicon.id) + \"\\n\")\n",
    "            f.write(str(amplicon.seq) + \"\\n\")\n"
   ]
  },
  {
   "cell_type": "markdown",
   "metadata": {},
   "source": [
    "Heatmap of sequences with each barcode combination. We can see that the used combinations yield around 200.000 sequences, with a general background noise of ~5.000-10.000 due to barcode cross-contaminations."
   ]
  },
  {
   "cell_type": "code",
   "execution_count": null,
   "metadata": {},
   "outputs": [],
   "source": [
    "plt.figure(figsize = (7, 7))\n",
    "im = plt.imshow(mat)\n",
    "plt.xticks(range(len(fnames)), fnames)\n",
    "plt.yticks(range(len(rnames)), rnames)\n",
    "plt.title(\"BLNK primer combinations\")\n",
    "for i in range(len(fnames)):\n",
    "    for j in range(len(rnames)):\n",
    "        text = plt.text(j, i, mat[i, j],\n",
    "                       ha=\"center\", va=\"center\", color=\"black\")"
   ]
  },
  {
   "cell_type": "markdown",
   "metadata": {},
   "source": [
    "#### Alignment"
   ]
  },
  {
   "cell_type": "markdown",
   "metadata": {},
   "source": [
    "Global alignment of each amplicon to the theoretical locus1 sequence with **needle**. "
   ]
  },
  {
   "cell_type": "code",
   "execution_count": null,
   "metadata": {},
   "outputs": [],
   "source": [
    "import subprocess\n",
    "import time\n",
    "import os\n",
    "\n",
    "needle = \"/Users/potiadam/programok/EMBOSS-6.6.0/emboss/needle\"\n",
    "ref = \"/Users/potiadam/Documents/CRISPR_amplicon/ref/locus1.fa\"\n",
    "\n",
    "\n",
    "sttime = time.time()\n",
    "\n",
    "good_samples = ['F1_R2', 'F2_R3', 'F3_R4', 'F4_R5', 'F5_R6', 'F6_R7', 'F7_R8', 'F8_R4', 'F7_R5', 'F5_R7', 'F8_R4']\n",
    "genotypes = ['BRCA1', 'BRCA2', 'RAD52', 'RAD54', 'RAD51C', 'XRCC2', 'XRCC3', 'CHK2', 'ATM',  'WT', 'PALB2']\n",
    "\n",
    "if not os.path.exists(\"locus1_needle\"):\n",
    "    os.mkdir(\"locus1_needle\")\n",
    "\n",
    "for i in good_samples:\n",
    "    amplicon = \"/Users/potiadam/Documents/CRISPR_amplicon/locus1_sep/\" + i + \".fasta\"\n",
    "    outfile = \"/Users/potiadam/Documents/CRISPR_amplicon/locus1_needle/\" + i + \".go25.sep.needle\"\n",
    "    \n",
    "    cmd0 = \"awk 'NR % 2 == 1 {print $0} NR % 2 == 0 {print substr($1, 10, length($1)-18)}' \" + amplicon + \" > test.fa\"\n",
    "    subprocess.call(cmd0, shell = True)\n",
    "    cmd = needle + \" -asequence \" + ref + \" -bsequence test.fa -outfile \" + outfile\n",
    "    cmd = cmd + \" -gapopen 25 -gapextend 0.5 -awidth3 500\"\n",
    "    print(cmd)\n",
    "    subprocess.call(cmd, shell = True)\n",
    "    \n",
    "print(\"It all took \" + str(time.time() - sttime), \" seconds\")"
   ]
  },
  {
   "cell_type": "markdown",
   "metadata": {},
   "source": [
    "#### Indel analysis"
   ]
  },
  {
   "cell_type": "markdown",
   "metadata": {},
   "source": [
    "All used functions are in a separate scripts. Each fasta file is read into memory and deletions are detected."
   ]
  },
  {
   "cell_type": "code",
   "execution_count": null,
   "metadata": {},
   "outputs": [],
   "source": [
    "from CRISPR_analysis_tools import *\n",
    "\n",
    "good_samples = ['F1_R2', 'F2_R3', 'F3_R4', 'F4_R5', 'F5_R6', 'F6_R7', 'F7_R8', 'F8_R4', 'F7_R5', 'F5_R7', 'F8_R4']\n",
    "genotypes = ['BRCA1', 'BRCA2', 'RAD52', 'RAD54', 'RAD51C', 'XRCC2', 'XRCC3', 'CHK2', 'ATM',  'WT', 'PALB2']\n",
    "\n",
    "path = r\"locus1_needle/\"\n",
    "all_data = []\n",
    "for i in good_samples:\n",
    "    all_data.append(initiate(path+i+\".go25.sep.needle\",96,400))\n"
   ]
  },
  {
   "cell_type": "markdown",
   "metadata": {},
   "source": [
    "A stackplot is generated for each genotype, which will show for each genotype a characteristic deletion pattern according to the starts and length of all events."
   ]
  },
  {
   "cell_type": "code",
   "execution_count": null,
   "metadata": {},
   "outputs": [],
   "source": [
    "realseq = 'GTCCGCCATCTTTCAAACCGCCTCCCGCCCTCTCTCGCGAGACTTTATGGCCCGTCCTCTTCCCCTCCGAGGGGGCGGGATCTGCTCGCCGCTATGGCGAGGAAGCGCAAAGCGTCTGTCCCGCGGGCGTCTGCCGGCAAAAGGCGGCCCGG'\n",
    "\n",
    "fig, axs = plt.subplots(5,3,figsize = (12,10),sharex = True)\n",
    "axs = axs.ravel()\n",
    "xvals = range(1,len(realseq))\n",
    "plt.subplots_adjust(left=0.05, bottom=0.06, right=0.98, top=0.95, wspace=0.18, hspace=0.2)\n",
    "for d in range(len(all_data)):\n",
    "    read_num = len(all_data[d][0])\n",
    "    mvals = [0 for c in range(1,len(realseq))]\n",
    "    for m in all_data[d][3]:\n",
    "        index = realseq.find(m.del_seq,m.startpos,m.endpos)\n",
    "        inslen = len(m.ins_seq)\n",
    "        for c in range(index,index+len(m.del_seq)):\n",
    "            mvals[c] += 1\n",
    "    \n",
    "    yvals = [0 for c in range(1,len(realseq))]\n",
    "    for c in all_data[d][1]:\n",
    "        for i in range(c.startpos,c.endpos):\n",
    "            yvals[i] += 1\n",
    "    \n",
    "    for i in range(len(yvals)):\n",
    "        yvals[i] = yvals[i] / read_num *100\n",
    "        mvals[i] = mvals[i] / read_num *100\n",
    "    \n",
    "    axs[d].stackplot(xvals,mvals,yvals)\n",
    "    axs[d].axvline(96,0,1,color = 'black')\n",
    "    axs[d].set_title(genotypes[d], fontsize = 14, fontweight = 'bold')\n",
    "    axs[d].tick_params(labelsize = 13)\n",
    "\n",
    "\n",
    "axs[1].legend(['Cut site','Deletion with insertion','Deletion only'], fontsize = 14,loc = (-0.9,0.2))\n",
    "fig.text(0.5, 0.0, 'Relative position [bp]', ha='center', va='center',fontsize = 16)\n",
    "fig.text(0.0, 0.5,  'Ratio among all reads [%]', ha='center', va='center', rotation='vertical',fontsize = 16)\n",
    "plt.xlim(xmin = 40,xmax = 140)\n",
    "plt.show()"
   ]
  }
 ],
 "metadata": {
  "kernelspec": {
   "display_name": "Python 3",
   "language": "python",
   "name": "python3"
  },
  "language_info": {
   "codemirror_mode": {
    "name": "ipython",
    "version": 3
   },
   "file_extension": ".py",
   "mimetype": "text/x-python",
   "name": "python",
   "nbconvert_exporter": "python",
   "pygments_lexer": "ipython3",
   "version": "3.6.4"
  }
 },
 "nbformat": 4,
 "nbformat_minor": 2
}
